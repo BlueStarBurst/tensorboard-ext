{"cells": [
    {
        "cell_type": "code",
        "execution_count": 1,
        "metadata": {
            "id": 57482,
            "selected": false
        },
        "outputs": [],
        "source": [
            "%pip install numpy"
        ]
    },
    {
        "cell_type": "code",
        "execution_count": 1,
        "metadata": {
            "id": 15292,
            "selected": false
        },
        "outputs": [],
        "source": [
            "import numpy as np"
        ]
    },
    {
        "cell_type": "code",
        "execution_count": 1,
        "metadata": {
            "id": 82787,
            "selected": false
        },
        "outputs": [],
        "source": [
            "arr = np.array([1, 2, 3])\n",
            "print(\"hello\")\n",
            "for x in arr:\n",
            "  print(x)"
        ]
    },
    {
        "cell_type": "code",
        "execution_count": 1,
        "metadata": {
            "id": 2386,
            "selected": false
        },
        "outputs": [],
        "source": [
            "def custom2386(a, b):\n",
            "\treturn a + b"
        ]
    },
    {
        "cell_type": "code",
        "execution_count": 1,
        "metadata": {
            "id": 41910,
            "selected": false
        },
        "outputs": [],
        "source": [
            "integer41910 = 100"
        ]
    },
    {
        "cell_type": "code",
        "execution_count": 1,
        "metadata": {
            "id": 49305,
            "selected": false
        },
        "outputs": [],
        "source": [
            "integer49305 = 22"
        ]
    },
    {
        "cell_type": "code",
        "execution_count": 1,
        "metadata": {
            "id": 71092,
            "selected": false
        },
        "outputs": [],
        "source": [
            "integer71092 = 36"
        ]
    },
    {
        "cell_type": "code",
        "execution_count": 1,
        "metadata": {
            "id": 58403,
            "selected": false
        },
        "outputs": [],
        "source": [
            "other58403 = integer49305"
        ]
    },
    {
        "cell_type": "code",
        "execution_count": 1,
        "metadata": {
            "id": 12290,
            "selected": false
        },
        "outputs": [],
        "source": [
            "array12290 = [integer41910, integer49305, other58403]"
        ]
    },
    {
        "cell_type": "code",
        "execution_count": 1,
        "metadata": {
            "id": 63143,
            "selected": false
        },
        "outputs": [],
        "source": [
            "index63143 = array12290[0]"
        ]
    },
    {
        "cell_type": "code",
        "execution_count": 1,
        "metadata": {
            "id": 27788,
            "selected": false
        },
        "outputs": [],
        "source": [
            "helper27788 = custom2386(integer71092, index63143)"
        ]
    },
    {
        "cell_type": "code",
        "execution_count": 1,
        "metadata": {
            "id": 6338,
            "selected": false
        },
        "outputs": [],
        "source": [
            "print(helper27788)"
        ]
    }
],"metadata": {"kernelspec": {"display_name": "Python 3","language": "python","name": "python3"},"language_info": {"codemirror_mode": {"name": "ipython","version": 3},"file_extension": ".py","mimetype": "text/x-python","name": "python","nbconvert_exporter": "python","pygments_lexer": "ipython3","version": "3.10.13"},"colab": {"provenance": []}},"nbformat": 4,"nbformat_minor": 0}