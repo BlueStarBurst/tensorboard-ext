{
 "cells": [
  {
   "cell_type": "code",
   "execution_count": 1,
   "metadata": {
    "id": 98074,
    "run": false,
    "selected": false
   },
   "outputs": [],
   "source": [
    "float98074 = -29.99\n"
   ]
  },
  {
   "cell_type": "code",
   "execution_count": 1,
   "metadata": {
    "id": 324569,
    "run": false,
    "selected": false
   },
   "outputs": [],
   "source": [
    "integer324569 = 0\n"
   ]
  },
  {
   "cell_type": "code",
   "execution_count": 1,
   "metadata": {
    "id": 612360,
    "run": false,
    "selected": false
   },
   "outputs": [],
   "source": [
    "integer612360 = 0\n"
   ]
  },
  {
   "cell_type": "code",
   "execution_count": 1,
   "metadata": {
    "id": 839387,
    "run": false,
    "selected": false
   },
   "outputs": [],
   "source": [
    "print(integer324569)\n"
   ]
  },
  {
   "cell_type": "code",
   "execution_count": 1,
   "metadata": {
    "id": 705289,
    "run": false,
    "selected": false
   },
   "outputs": [],
   "source": [
    "array705289 = [integer324569, float98074, integer612360]\n"
   ]
  },
  {
   "cell_type": "code",
   "execution_count": 1,
   "metadata": {
    "id": 576711,
    "run": false,
    "selected": false
   },
   "outputs": [
    {
     "name": "stdout",
     "output_type": "stream",
     "text": [
      ""
     ]
    }
   ],
   "source": [
    "print(array705289)\n"
   ]
  }
 ],
 "metadata": {
  "colab": {
   "provenance": []
  },
  "kernelspec": {
   "display_name": "Python 3",
   "language": "python",
   "name": "python3"
  },
  "language_info": {
   "codemirror_mode": {
    "name": "ipython",
    "version": 3
   },
   "file_extension": ".py",
   "mimetype": "text/x-python",
   "name": "python",
   "nbconvert_exporter": "python",
   "pygments_lexer": "ipython3",
   "version": "3.10.13"
  }
 },
 "nbformat": 4,
 "nbformat_minor": 4
}
