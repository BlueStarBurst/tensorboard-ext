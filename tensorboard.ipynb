{
 "cells": [
  {
   "cell_type": "code",
   "execution_count": 1,
   "metadata": {
    "id": 372356,
    "run": false,
    "selected": false
   },
   "outputs": [
    {
     "name": "stdout",
     "output_type": "stream",
     "text": [
      "Looking in indexes: https://download.pytorch.org/whl/cu124\nRequirement already satisfied: torch in c:\\users\\texas\\miniconda3\\envs\\tensorboard\\lib\\site-packages (2.4.0+cu124)\nRequirement already satisfied: torchvision in c:\\users\\texas\\miniconda3\\envs\\tensorboard\\lib\\site-packages (0.19.0+cu124)\nRequirement already satisfied: torchaudio in c:\\users\\texas\\miniconda3\\envs\\tensorboard\\lib\\site-packages (2.4.0+cu124)\nRequirement already satisfied: filelock in c:\\users\\texas\\miniconda3\\envs\\tensorboard\\lib\\site-packages (from torch) (3.13.1)\nRequirement already satisfied: typing-extensions>=4.8.0 in c:\\users\\texas\\miniconda3\\envs\\tensorboard\\lib\\site-packages (from torch) (4.12.2)\nRequirement already satisfied: sympy in c:\\users\\texas\\miniconda3\\envs\\tensorboard\\lib\\site-packages (from torch) (1.12)\nRequirement already satisfied: networkx in c:\\users\\texas\\miniconda3\\envs\\tensorboard\\lib\\site-packages (from torch) (3.2.1)\nRequirement already satisfied: jinja2 in c:\\users\\texas\\miniconda3\\envs\\tensorboard\\lib\\site-packages (from torch) (3.1.4)\nRequirement already satisfied: fsspec in c:\\users\\texas\\miniconda3\\envs\\tensorboard\\lib\\site-packages (from torch) (2024.2.0)\nRequirement already satisfied: setuptools in c:\\users\\texas\\miniconda3\\envs\\tensorboard\\lib\\site-packages (from torch) (72.1.0)\nRequirement already satisfied: numpy in c:\\users\\texas\\miniconda3\\envs\\tensorboard\\lib\\site-packages (from torchvision) (2.0.1)\nRequirement already satisfied: pillow!=8.3.*,>=5.3.0 in c:\\users\\texas\\miniconda3\\envs\\tensorboard\\lib\\site-packages (from torchvision) (10.4.0)\nRequirement already satisfied: MarkupSafe>=2.0 in c:\\users\\texas\\miniconda3\\envs\\tensorboard\\lib\\site-packages (from jinja2->torch) (2.1.5)\nRequirement already satisfied: mpmath>=0.19 in c:\\users\\texas\\miniconda3\\envs\\tensorboard\\lib\\site-packages (from sympy->torch) (1.3.0)\n"
     ]
    }
   ],
   "source": [
    "!pip install torch torchvision torchaudio --index-url https://download.pytorch.org/whl/cu124\n",
    "import torch\n"
   ]
  },
  {
   "cell_type": "code",
   "execution_count": 1,
   "metadata": {
    "id": 884718,
    "run": false,
    "selected": false
   },
   "outputs": [
    {
     "name": "stdout",
     "output_type": "stream",
     "text": [
      "Requirement already satisfied: numpy in c:\\users\\texas\\miniconda3\\envs\\tensorboard\\lib\\site-packages (2.0.1)\nNote: you may need to restart the kernel to use updated packages.\n"
     ]
    }
   ],
   "source": [
    "%pip install numpy\n",
    "import numpy as np\n"
   ]
  },
  {
   "cell_type": "code",
   "execution_count": 1,
   "metadata": {
    "id": 29975,
    "run": false,
    "selected": false
   },
   "outputs": [
    {
     "name": "stdout",
     "output_type": "stream",
     "text": [
      ""
     ]
    }
   ],
   "source": [
    "integer29975 = 0\n"
   ]
  },
  {
   "cell_type": "code",
   "execution_count": 1,
   "metadata": {
    "id": 235446,
    "run": false,
    "selected": false
   },
   "outputs": [
    {
     "name": "stdout",
     "output_type": "stream",
     "text": [
      ""
     ]
    }
   ],
   "source": [
    "integer235446 = 0\n"
   ]
  },
  {
   "cell_type": "code",
   "execution_count": 1,
   "metadata": {
    "id": 814066,
    "run": false,
    "selected": false
   },
   "outputs": [
    {
     "name": "stdout",
     "output_type": "stream",
     "text": [
      "True\n"
     ]
    }
   ],
   "source": [
    "print(torch.cuda.is_available())\n"
   ]
  },
  {
   "cell_type": "code",
   "execution_count": 1,
   "metadata": {
    "id": 764890,
    "run": false,
    "selected": false
   },
   "outputs": [
    {
     "name": "stdout",
     "output_type": "stream",
     "text": [
      "0 0\n"
     ]
    }
   ],
   "source": [
    "print(integer29975, integer235446)\n"
   ]
  }
 ],
 "metadata": {
  "colab": {
   "provenance": []
  },
  "kernelspec": {
   "display_name": "Python 3",
   "language": "python",
   "name": "python3"
  },
  "language_info": {
   "codemirror_mode": {
    "name": "ipython",
    "version": 3
   },
   "file_extension": ".py",
   "mimetype": "text/x-python",
   "name": "python",
   "nbconvert_exporter": "python",
   "pygments_lexer": "ipython3",
   "version": "3.10.13"
  }
 },
 "nbformat": 4,
 "nbformat_minor": 4
}
