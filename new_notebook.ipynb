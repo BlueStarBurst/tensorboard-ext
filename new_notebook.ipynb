{
 "cells": [
  {
   "cell_type": "code",
   "execution_count": 1,
   "metadata": {
    "id": 316162,
    "run": false,
    "selected": false
   },
   "outputs": [],
   "source": [
    "integer316162 = 0\n"
   ]
  },
  {
   "cell_type": "code",
   "execution_count": 1,
   "metadata": {
    "id": 345501,
    "run": false,
    "selected": false
   },
   "outputs": [],
   "source": [
    "\n"
   ]
  },
  {
   "cell_type": "code",
   "execution_count": 1,
   "metadata": {
    "id": 409724,
    "run": false,
    "selected": false
   },
   "outputs": [],
   "source": [
    "integer409724 = 0\n"
   ]
  },
  {
   "cell_type": "code",
   "execution_count": 1,
   "metadata": {
    "id": 410161,
    "run": false,
    "selected": false
   },
   "outputs": [],
   "source": [
    "integer410161 = 0\n"
   ]
  },
  {
   "cell_type": "code",
   "execution_count": 1,
   "metadata": {
    "id": 505919,
    "run": false,
    "selected": false
   },
   "outputs": [],
   "source": [
    "from huggingface_hub import hf_hub_download\n",
    "import pandas as pd\n",
    "print('Downloading data from https://hugingface.com/')\n",
    "dataset505919 = pd.read_csv(\n",
    "\thf_hub_download(repo_id=\"\", filename=\"\", repo_type=\"dataset\")\n",
    ")\n"
   ]
  },
  {
   "cell_type": "code",
   "execution_count": 1,
   "metadata": {
    "id": 431628,
    "run": false,
    "selected": false
   },
   "outputs": [],
   "source": [
    "print(integer316162)\n"
   ]
  }
 ],
 "metadata": {
  "colab": {
   "provenance": []
  },
  "kernelspec": {
   "display_name": "Python 3 (ipykernel)",
   "language": "python",
   "name": "python3"
  },
  "language_info": {
   "codemirror_mode": {
    "name": "ipython",
    "version": 3
   },
   "file_extension": ".py",
   "mimetype": "text/x-python",
   "name": "python",
   "nbconvert_exporter": "python",
   "pygments_lexer": "ipython3",
   "version": "3.12.5"
  }
 },
 "nbformat": 4,
 "nbformat_minor": 4
}
