{
 "cells": [
  {
   "cell_type": "code",
   "execution_count": 4,
   "id": "9098d9c5-056a-433b-ae64-c63b761bfeed",
   "metadata": {},
   "outputs": [
    {
     "name": "stdout",
     "output_type": "stream",
     "text": [
      "buh bye!\n"
     ]
    }
   ],
   "source": [
    "print(\"buh bye!\")"
   ]
  },
  {
   "cell_type": "code",
   "execution_count": null,
   "id": "48288729-a65c-4c3c-9719-43fd110f9e15",
   "metadata": {},
   "outputs": [],
   "source": []
  }
 ],
 "metadata": {
  "kernelspec": {
   "display_name": "Python 3 (ipykernel)",
   "language": "python",
   "name": "python3"
  },
  "language_info": {
   "codemirror_mode": {
    "name": "ipython",
    "version": 3
   },
   "file_extension": ".py",
   "mimetype": "text/x-python",
   "name": "python",
   "nbconvert_exporter": "python",
   "pygments_lexer": "ipython3",
   "version": "3.12.1"
  }
 },
 "nbformat": 4,
 "nbformat_minor": 5
}
